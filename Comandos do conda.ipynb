{
 "cells": [
  {
   "cell_type": "markdown",
   "metadata": {},
   "source": [
    "Aqui está a lista completa dos 35 comandos do **conda**, \n",
    "- Organizados com uma breve descrição e exemplos para cada um deles."
   ]
  },
  {
   "cell_type": "markdown",
   "metadata": {},
   "source": [
    "___________________________________________________________________________________________________________"
   ]
  },
  {
   "cell_type": "markdown",
   "metadata": {},
   "source": [
    "## Comandos do `conda`\n",
    "\n",
    "O `conda` fornece uma gama completa de comandos para gerenciar ambientes e pacotes. Abaixo estão todos os comandos disponíveis, com exemplos de uso.\n",
    "\n",
    "### 1. `activate` \n",
    "Ativa um ambiente conda."
   ]
  },
  {
   "cell_type": "markdown",
   "metadata": {},
   "source": [
    "```bash\n",
    "$ conda activate meu_ambiente\n",
    "```"
   ]
  },
  {
   "cell_type": "markdown",
   "metadata": {},
   "source": [
    "### 2. `build`\n",
    "Constrói pacotes conda a partir de uma receita.\n"
   ]
  },
  {
   "cell_type": "markdown",
   "metadata": {},
   "source": [
    "```bash\n",
    "$ conda build receita_conda/\n",
    "```"
   ]
  },
  {
   "cell_type": "markdown",
   "metadata": {},
   "source": [
    "### 3. `clean`\n",
    "Remove caches e pacotes não utilizados."
   ]
  },
  {
   "cell_type": "markdown",
   "metadata": {},
   "source": [
    "```bash\n",
    "$ conda clean --all\n",
    "```"
   ]
  },
  {
   "cell_type": "markdown",
   "metadata": {},
   "source": [
    "### 4. `commands`\n",
    "Lista todos subcomandos disponíveis (incluindo plugins).\n",
    "## 4.1. Subcomandos\n",
    "```O que é```: Comandos específicos dentro do comando conda, como install, update, create, etc. \n",
    "\n",
    "```Como funciona```: Cada subcomando realiza uma ação específica. \n",
    "\n",
    "```Exemplo```:\n"
   ]
  },
  {
   "cell_type": "markdown",
   "metadata": {},
   "source": [
    "```bash\n",
    "$ conda commands \n",
    "```\n",
    "\n",
    "_______________________\n",
    "\n",
    "```bash\n",
    "$ conda install numpy \n",
    "```\n",
    "```bash\n",
    "$ conda update numpy \n",
    "```\n",
    "\n",
    "Esses são subcomandos do ```conda``` para instalação e atualização de pacotes.\n",
    "____________________\n",
    "\n"
   ]
  },
  {
   "cell_type": "markdown",
   "metadata": {},
   "source": [
    "### 5. `compare`\n",
    "Compara pacotes entre ambientes.\n"
   ]
  },
  {
   "cell_type": "markdown",
   "metadata": {},
   "source": [
    "```bash\n",
    "$ conda compare meu_ambiente meu_ambiente2\n",
    "```"
   ]
  },
  {
   "cell_type": "markdown",
   "metadata": {},
   "source": [
    "### 6. `config`\n",
    "Modifica valores de configuração no arquivo ```.condarc```.\n",
    "## 6.1. Condarc\n",
    "```O que é```: Um arquivo de configuração do conda que armazena configurações de usuário e preferências. \n",
    "\n",
    "```Como funciona```: Permite ajustar configurações como canais preferidos e diretórios de cache. \n",
    "\n",
    "```Exemplo```: A configuração de canal pode ser feita no .condarc:\n"
   ]
  },
  {
   "cell_type": "markdown",
   "metadata": {},
   "source": [
    "```yaml\n",
    "channels:\n",
    "  - defaults\n",
    "  - conda-forge\n",
    "```\n",
    "\n",
    "\n",
    "```bash\n",
    "$ conda config --set auto_activate_base false\n",
    "```"
   ]
  },
  {
   "cell_type": "markdown",
   "metadata": {},
   "source": [
    "### 7. `content-trust`\n",
    "Ferramentas de assinatura e verificação para Conda.\n"
   ]
  },
  {
   "cell_type": "markdown",
   "metadata": {},
   "source": [
    "```bash\n",
    "$ conda content-trust sign meu_pacote.tar.bz2\n",
    "```"
   ]
  },
  {
   "cell_type": "markdown",
   "metadata": {},
   "source": [
    "### 8. `convert`\n",
    "Converte pacotes Python para outras plataformas.\n",
    "## 8.1. Outras Plataformas\n",
    "```O que é```: Ambientes de sistemas operacionais diferentes, como Windows, macOS ou Linux. \n",
    "\n",
    "```Como funciona```: conda permite converter pacotes para diferentes plataformas. \n",
    "\n",
    "```Exemplo```:\n"
   ]
  },
  {
   "cell_type": "markdown",
   "metadata": {},
   "source": [
    "```bash\n",
    "$ conda convert -p all meu_pacote.tar.bz2\n",
    "```\n",
    "\n",
    "Esse comando converte o pacote para funcionar em todas as plataformas suportadas.\n",
    "\n"
   ]
  },
  {
   "cell_type": "markdown",
   "metadata": {},
   "source": [
    "### 9. `create`\n",
    "Cria um novo ambiente com pacotes especificos.\n",
    "## 9.1. Pacotes\n",
    "```O que é```: Conjuntos de arquivos ou módulos que podem ser instalados para adicionar funcionalidades. \n",
    "\n",
    "```Como funciona```: Pacotes são instalados em ambientes conda para fornecer bibliotecas ou ferramentas necessárias. \n",
    "\n",
    "```Exemplo```:"
   ]
  },
  {
   "cell_type": "markdown",
   "metadata": {},
   "source": [
    "```bash\n",
    "$ conda create --nome novo_ambiente python=3.8\n",
    "```"
   ]
  },
  {
   "cell_type": "markdown",
   "metadata": {},
   "source": [
    "### 10. `deactivate`\n",
    "Desativa o ambiente conda ativo atual."
   ]
  },
  {
   "cell_type": "markdown",
   "metadata": {},
   "source": [
    "```bash\n",
    "$ conda deactivate\n",
    "```"
   ]
  },
  {
   "cell_type": "markdown",
   "metadata": {},
   "source": [
    "### 11. `debug`\n",
    "Depura as fases de construção ou teste de receitas.\n",
    "## 11.1. Receita\n",
    "```O que é```: Um conjunto de instruções que define como construir um pacote específico. \n",
    "\n",
    "```Como funciona```: Similar a uma receita conda, usada para automatizar o processo de construção do pacote. \n",
    "\n",
    "```Exemplo```: Uma receita comum inclui dependências, passos de build e configurações específicas."
   ]
  },
  {
   "cell_type": "markdown",
   "metadata": {},
   "source": [
    "```bash\n",
    "$ conda debug receita_conda/\n",
    "```"
   ]
  },
  {
   "cell_type": "markdown",
   "metadata": {},
   "source": [
    "### 12. `develop`\n",
    "Instala um pacote em modo de desenvolvimento."
   ]
  },
  {
   "cell_type": "markdown",
   "metadata": {},
   "source": [
    "```bash\n",
    "$ conda develop caminho_do_pacote/\n",
    "```"
   ]
  },
  {
   "cell_type": "markdown",
   "metadata": {},
   "source": [
    "### 13. `doctor`\n",
    "Exibe um relatório de saúde do seu ambiente.\n",
    "\n"
   ]
  },
  {
   "cell_type": "markdown",
   "metadata": {},
   "source": [
    "```bash\n",
    "$ conda doctor \n",
    "```"
   ]
  },
  {
   "cell_type": "markdown",
   "metadata": {},
   "source": [
    "### 14. `export`\n",
    "Exporta um ambiente para um arquivo *.yml*.\n",
    "\n"
   ]
  },
  {
   "cell_type": "markdown",
   "metadata": {},
   "source": [
    "```bash\n",
    "$ conda export --name meu_ambiente --file ambiente.yml\n",
    "```"
   ]
  },
  {
   "cell_type": "markdown",
   "metadata": {},
   "source": [
    "### 15. `index`\n",
    "Atualiza os arquivos de metadados do índice de pacotes.\n",
    "## 15.1. Metadados de Índice de Pacote\n",
    "```O que é```: Informações sobre os pacotes armazenadas nos repositórios. \n",
    "\n",
    "```Como funciona```: Facilita a busca e instalação dos pacotes corretos. \n",
    "\n",
    "```Exemplo```:\n",
    "\n"
   ]
  },
  {
   "cell_type": "markdown",
   "metadata": {},
   "source": [
    "```bash\n",
    "$ conda index caminho_para_pacotes/\n",
    "```\n",
    "Esse comando cria ou atualiza metadados de índice para pacotes no caminho especificado.\n"
   ]
  },
  {
   "cell_type": "markdown",
   "metadata": {},
   "source": [
    "\n",
    "### 16. `info`\n",
    "Exibe informações sobre a instalação do conda.\n",
    "\n"
   ]
  },
  {
   "cell_type": "markdown",
   "metadata": {},
   "source": [
    "```bash\n",
    "$ conda info \n",
    "```"
   ]
  },
  {
   "cell_type": "markdown",
   "metadata": {},
   "source": [
    "### 17. `init`\n",
    "Inicializa o conda para interação com o shell.\n",
    "## 17.1. Shell\n",
    "```O que é```: Interface de linha de comando usada para interagir com o sistema. \n",
    "\n",
    "```Como funciona```: conda pode ser configurado para o shell, permitindo o uso de comandos conda diretamente no terminal. \n",
    "\n",
    "```Exemplo```:\n"
   ]
  },
  {
   "cell_type": "markdown",
   "metadata": {},
   "source": [
    "```bash\n",
    "$ conda init bash\n",
    "```\n",
    "Esse comando configura o ```conda``` para ser usado no shell ```bash```.\n",
    "\n"
   ]
  },
  {
   "cell_type": "markdown",
   "metadata": {},
   "source": [
    "### 18. `inspect`\n",
    "Ferramentas para inspecionar pacotes conda.\n",
    "\n",
    "## 18.1. Inspecionar Pacote\n",
    "```O que é```: Ferramenta para verificar detalhes técnicos de um pacote. \n",
    "\n",
    "```Como funciona```: Analisa dependências e outros detalhes do pacote. \n",
    "\n",
    "```Exemplo```:"
   ]
  },
  {
   "cell_type": "markdown",
   "metadata": {},
   "source": [
    "```bash\n",
    "$ conda inspect linkages meu_pacote\n",
    "```\n",
    "\n",
    "```bash\n",
    "$ conda inspect linkages numpy\n",
    "```\n",
    "Esse comando inspeciona o pacote ```numpy``` para verificar dependências de links.\n"
   ]
  },
  {
   "cell_type": "markdown",
   "metadata": {},
   "source": [
    "### 19. `install`\n",
    "Instala pacotes em um ambiente específico.\n",
    "\n"
   ]
  },
  {
   "cell_type": "markdown",
   "metadata": {},
   "source": [
    "```bash\n",
    "$ conda install -n meu_ambiente numpy pandas\n",
    "```\n",
    "\n",
    "Esse comando instala o pacote numpy em um ambiente conda.\n",
    "\n"
   ]
  },
  {
   "cell_type": "markdown",
   "metadata": {},
   "source": [
    "### 20. `list`\n",
    "Lista pacotes instalados em um ambiente.\n",
    "\n"
   ]
  },
  {
   "cell_type": "markdown",
   "metadata": {},
   "source": [
    "```bash\n",
    "$ conda conda list\n",
    "```"
   ]
  },
  {
   "cell_type": "markdown",
   "metadata": {},
   "source": [
    "### 21. `metapackage`\n",
    "Gera um metapacote conda.\n",
    "## 21.1. Metapacote\n",
    "```O que é```: Um pacote que agrupa outros pacotes como dependências, sem ter conteúdo próprio. \n",
    "\n",
    "```Como funciona```: Facilita a instalação de grupos de pacotes para um projeto específico. \n",
    "\n",
    "```Exemplo```:"
   ]
  },
  {
   "cell_type": "markdown",
   "metadata": {},
   "source": [
    "```bash\n",
    "$ conda metapackage nome_metapacote 1.0 --dependencias numpy, pandas\n",
    "```\n",
    "Esse comando cria um metapacote que instala ```numpy``` e ```pandas``` ao ser instalado.\n",
    "\n"
   ]
  },
  {
   "cell_type": "markdown",
   "metadata": {},
   "source": [
    "### 22. `notices`\n",
    "Exibe notificações recentes do canal.\n",
    "## 22.1. Notificações de Canal\n",
    "\n",
    "```O que é```: Mensagens ou atualizações sobre pacotes em canais do conda. \n",
    "\n",
    "```Como funciona```: conda exibe notificações sobre atualizações ou mudanças de pacotes. \n",
    "\n",
    "```Exemplo```:"
   ]
  },
  {
   "cell_type": "markdown",
   "metadata": {},
   "source": [
    "```bash\n",
    "$ conda notices \n",
    "```\n",
    "Esse comando exibe as notificações do canal atual."
   ]
  },
  {
   "cell_type": "markdown",
   "metadata": {},
   "source": [
    "### 23. `pack`\n",
    "Compacta um ambiente para redistribuição.\n",
    "## 23.1. Pack\n",
    "```O que é```: Um utilitário para compactar um ambiente conda para redistribuição. \n",
    "\n",
    "```Como funciona```: Compacta o ambiente em um único arquivo que pode ser descompactado e usado em outra máquina. \n",
    "\n",
    "```Exemplo```:"
   ]
  },
  {
   "cell_type": "markdown",
   "metadata": {},
   "source": [
    "```bash\n",
    "$ conda pack -n meu_ambiente\n",
    "```\n",
    "\n",
    "Esse comando cria um arquivo compactado do ambiente ```meu_ambiente```.\n",
    "\n"
   ]
  },
  {
   "cell_type": "markdown",
   "metadata": {},
   "source": [
    "### 24. `package`\n",
    "Cria pacotes conda de baixo nível (experimental)."
   ]
  },
  {
   "cell_type": "markdown",
   "metadata": {},
   "source": [
    "```bash\n",
    "$ conda package meu_pacote\n",
    "```"
   ]
  },
  {
   "cell_type": "markdown",
   "metadata": {},
   "source": [
    "### 25. `remove (ou uninstall)`\n",
    "Remova pacotes de um ambiente."
   ]
  },
  {
   "cell_type": "markdown",
   "metadata": {},
   "source": [
    "```bash\n",
    "$ conda remove -n meu_ambiente numpy\n",
    "```"
   ]
  },
  {
   "cell_type": "markdown",
   "metadata": {},
   "source": [
    "### 26. `rename`\n",
    "Renomeia um ambiente existente."
   ]
  },
  {
   "cell_type": "markdown",
   "metadata": {},
   "source": [
    "```bash\n",
    "$ conda rename -n ambiente_antigo -d ambiente_novo\n",
    "```"
   ]
  },
  {
   "cell_type": "markdown",
   "metadata": {},
   "source": [
    "### 27. `render`\n",
    "Expande uma receita conda para uma receita específica da plataforma.\n",
    "## 27.1. Receita Conda\n",
    "```O que é```: Um conjunto de instruções (ou um arquivo YAML) que define como criar um pacote conda. \n",
    "\n",
    "```Como funciona```: Contém dependências, variáveis de ambiente e comandos de instalação. \n"
   ]
  },
  {
   "cell_type": "markdown",
   "metadata": {},
   "source": [
    "```bash\n",
    "$ conda render receita_conda/\n",
    "```"
   ]
  },
  {
   "cell_type": "markdown",
   "metadata": {},
   "source": [
    "\n",
    "```Exemplo```: A estrutura de uma receita conda (arquivo meta.yaml) pode incluir:\n",
    "\n",
    "```yaml\n",
    "package:\n",
    "  name: \"meu_pacote\"\n",
    "  version: \"1.0\"\n",
    "requirements:\n",
    "  build:\n",
    "    - python\n",
    "  run:\n",
    "    - numpy\n",
    "```"
   ]
  },
  {
   "cell_type": "markdown",
   "metadata": {},
   "source": [
    "### 28. `repo`\n",
    "Informações sobre repositórios (ver conda repo --help para detalhes)."
   ]
  },
  {
   "cell_type": "markdown",
   "metadata": {},
   "source": [
    "```bash\n",
    "$ conda repo \n",
    "```"
   ]
  },
  {
   "cell_type": "markdown",
   "metadata": {},
   "source": [
    "### 29. `repoquery`\n",
    "Pesquisa avançada de dados em repositórios.\n",
    "## 29.1. Repoquery\n",
    "```O que é```: Ferramenta para consulta avançada de dados em repositórios (repo). \n",
    "\n",
    "```Como funciona```: Permite buscas detalhadas para localizar pacotes com características específicas nos repositórios conda. \n",
    "\n",
    "```Exemplo```:\n",
    "\n"
   ]
  },
  {
   "cell_type": "markdown",
   "metadata": {},
   "source": [
    "```bash\n",
    "$ conda repository search numpy\n",
    "```"
   ]
  },
  {
   "cell_type": "markdown",
   "metadata": {},
   "source": [
    "Esse comando busca informações sobre o pacote numpy no repositório.\n",
    "\n"
   ]
  },
  {
   "cell_type": "markdown",
   "metadata": {},
   "source": [
    "### 30. `run`\n",
    "Executa um comando em um ambiente conda."
   ]
  },
  {
   "cell_type": "markdown",
   "metadata": {},
   "source": [
    "```bash\n",
    "$ conda run -n meu_ambiente python script.py\n",
    "```"
   ]
  },
  {
   "cell_type": "markdown",
   "metadata": {},
   "source": [
    "### 31. `search`\n",
    "Busca pacotes nos repositórios."
   ]
  },
  {
   "cell_type": "markdown",
   "metadata": {},
   "source": [
    "```bash\n",
    "$ conda search pandas\n",
    "```"
   ]
  },
  {
   "cell_type": "markdown",
   "metadata": {},
   "source": [
    "### 32. `server`\n",
    "Informações sobre o servidor (ver conda server --help para detalhes)."
   ]
  },
  {
   "cell_type": "markdown",
   "metadata": {},
   "source": [
    "```bash\n",
    "$ conda server\n",
    "```"
   ]
  },
  {
   "cell_type": "markdown",
   "metadata": {},
   "source": [
    "### 33. `skeleton`\n",
    "Gera receitas de boilerplate para novos pacotes.\n",
    "\n",
    "## 33.1. Boilerplate\n",
    "```O que é ```: Código ou estrutura base comum que é reutilizado com poucas alterações em diferentes projetos.\n",
    "\n",
    "```Como funciona```: No contexto do conda, ele ajuda a iniciar uma estrutura básica para pacotes. \n",
    "\n",
    "```Exemplo```:"
   ]
  },
  {
   "cell_type": "markdown",
   "metadata": {},
   "source": [
    "```bash\n",
    "$ conda skeleton pypi meu_pacote\n",
    "```"
   ]
  },
  {
   "cell_type": "markdown",
   "metadata": {},
   "source": [
    "\n",
    "Esse comando cria um arquivo de receita (recipe) a partir de um pacote do PyPI com uma estrutura básica (boilerplate)."
   ]
  },
  {
   "cell_type": "markdown",
   "metadata": {},
   "source": [
    "### 34. `token`\n",
    "Gerencia tokens de acesso para repositórios (ver conda token --help).\n",
    "## 34.1. Token\n",
    "```O que é```: Um código de acesso que permite autenticação para acessar recursos específicos, como repositórios privados. \n",
    "\n",
    "```Como funciona```: Tokens são usados para autenticação sem precisar compartilhar sua senha diretamente. \n",
    "\n",
    "```Exemplo```:"
   ]
  },
  {
   "cell_type": "markdown",
   "metadata": {},
   "source": [
    "```bash\n",
    "$ conda token \n",
    "```\n",
    "\n",
    "```bash\n",
    "$ conda token create --name meu_token\n",
    "```"
   ]
  },
  {
   "cell_type": "markdown",
   "metadata": {},
   "source": [
    "Esse comando gera um token para acesso autorizado ao repositório.\n",
    "\n"
   ]
  },
  {
   "cell_type": "markdown",
   "metadata": {},
   "source": [
    "### 35. `update (ou upgrade)`\n",
    "Atualiza pacotes para a versão mais recente compatível.\n",
    "\n"
   ]
  },
  {
   "cell_type": "markdown",
   "metadata": {},
   "source": [
    "```bash\n",
    "$ conda update numpy\n",
    "```"
   ]
  },
  {
   "cell_type": "code",
   "execution_count": null,
   "metadata": {},
   "outputs": [],
   "source": []
  },
  {
   "cell_type": "markdown",
   "metadata": {},
   "source": [
    "fim!"
   ]
  }
 ],
 "metadata": {
  "kernelspec": {
   "display_name": "base",
   "language": "python",
   "name": "python3"
  },
  "language_info": {
   "codemirror_mode": {
    "name": "ipython",
    "version": 3
   },
   "file_extension": ".py",
   "mimetype": "text/x-python",
   "name": "python",
   "nbconvert_exporter": "python",
   "pygments_lexer": "ipython3",
   "version": "3.12.4"
  }
 },
 "nbformat": 4,
 "nbformat_minor": 2
}
